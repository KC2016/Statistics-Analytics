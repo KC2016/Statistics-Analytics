{
 "cells": [
  {
   "cell_type": "code",
   "execution_count": null,
   "metadata": {},
   "outputs": [],
   "source": []
  },
  {
   "cell_type": "markdown",
   "metadata": {},
   "source": [
    "This is a template for A/B test analysis. Template variables (see string.Template) starting with $ have to be replaced by actual values.\n",
    "\n",
    "(template: scdata/templates/search_experiment.ipynb)\n",
    "\n",
    "Motivation, observation, and action items can be found in the proposal (see link below).\n",
    "\n"
   ]
  },
  {
   "cell_type": "code",
   "execution_count": 1,
   "metadata": {},
   "outputs": [
    {
     "ename": "ModuleNotFoundError",
     "evalue": "No module named 'scdata'",
     "output_type": "error",
     "traceback": [
      "\u001b[0;31m---------------------------------------------------------------------------\u001b[0m",
      "\u001b[0;31mModuleNotFoundError\u001b[0m                       Traceback (most recent call last)",
      "\u001b[1;32m/Users/karinacondeixa/KarinaCondeixa/power_analysis/ab_testing_sample1.ipynb Cell 3\u001b[0m in \u001b[0;36m<cell line: 7>\u001b[0;34m()\u001b[0m\n\u001b[1;32m      <a href='vscode-notebook-cell:/Users/karinacondeixa/KarinaCondeixa/power_analysis/ab_testing_sample1.ipynb#ch0000002?line=3'>4</a>\u001b[0m \u001b[39mimport\u001b[39;00m \u001b[39mwarnings\u001b[39;00m\n\u001b[1;32m      <a href='vscode-notebook-cell:/Users/karinacondeixa/KarinaCondeixa/power_analysis/ab_testing_sample1.ipynb#ch0000002?line=4'>5</a>\u001b[0m warnings\u001b[39m.\u001b[39mfilterwarnings(\u001b[39m'\u001b[39m\u001b[39mignore\u001b[39m\u001b[39m'\u001b[39m)\n\u001b[0;32m----> <a href='vscode-notebook-cell:/Users/karinacondeixa/KarinaCondeixa/power_analysis/ab_testing_sample1.ipynb#ch0000002?line=6'>7</a>\u001b[0m \u001b[39mfrom\u001b[39;00m \u001b[39mscdata\u001b[39;00m\u001b[39m.\u001b[39;00m\u001b[39mab_testing\u001b[39;00m \u001b[39mimport\u001b[39;00m Experiment\n\u001b[1;32m      <a href='vscode-notebook-cell:/Users/karinacondeixa/KarinaCondeixa/power_analysis/ab_testing_sample1.ipynb#ch0000002?line=7'>8</a>\u001b[0m \u001b[39mfrom\u001b[39;00m \u001b[39mscdata\u001b[39;00m\u001b[39m.\u001b[39;00m\u001b[39mab_testing\u001b[39;00m\u001b[39m.\u001b[39;00m\u001b[39manalyses\u001b[39;00m \u001b[39mimport\u001b[39;00m SearchAnalysis\n\u001b[1;32m      <a href='vscode-notebook-cell:/Users/karinacondeixa/KarinaCondeixa/power_analysis/ab_testing_sample1.ipynb#ch0000002?line=8'>9</a>\u001b[0m \u001b[39mfrom\u001b[39;00m \u001b[39mscdata\u001b[39;00m\u001b[39m.\u001b[39;00m\u001b[39mmetrics\u001b[39;00m\u001b[39m.\u001b[39;00m\u001b[39msearch\u001b[39;00m \u001b[39mimport\u001b[39;00m RelevanceLabels\n",
      "\u001b[0;31mModuleNotFoundError\u001b[0m: No module named 'scdata'"
     ]
    }
   ],
   "source": [
    "%load_ext autoreload\n",
    "%autoreload 2\n",
    "\n",
    "import warnings\n",
    "warnings.filterwarnings('ignore')\n",
    "\n",
    "from scdata.ab_testing import Experiment\n",
    "from scdata.ab_testing.analyses import SearchAnalysis\n",
    "from scdata.metrics.search import RelevanceLabels\n",
    "\n",
    "experiment = Experiment('search_fuzzy_search')\n",
    "is_relevant = RelevanceLabels.has_interaction()\n",
    "analysis = SearchAnalysis(experiment, user_cohort='all_users', spark=spark, is_relevant=is_relevant, num_buckets_per_day=1)\n",
    "experiment.display_description()\n",
    "final_evaluation = False"
   ]
  },
  {
   "cell_type": "markdown",
   "metadata": {},
   "source": [
    "Sanity Checks\n",
    "In the following, we study basic assignment properties to ensure that each variant was exposed equally likely, i.e., the statistic of each variant should be approximately equal, thus the significance of the observed difference low.\n",
    "\n",
    "Total number of searches per variant"
   ]
  },
  {
   "cell_type": "code",
   "execution_count": null,
   "metadata": {},
   "outputs": [],
   "source": [
    "analysis.get_unique_searches_per_variant()"
   ]
  },
  {
   "cell_type": "markdown",
   "metadata": {},
   "source": [
    "Visitors per Day\n",
    "The number of visitors are defined as the number of user with at least one search."
   ]
  },
  {
   "cell_type": "code",
   "execution_count": null,
   "metadata": {},
   "outputs": [],
   "source": [
    "%%time\n",
    "visitors = analysis.get_visitors()\n",
    "visitors.plot_summary()"
   ]
  },
  {
   "cell_type": "markdown",
   "metadata": {},
   "source": [
    "Behavior Analysis\n",
    "How do the variants differ with respect to the presented content\n",
    "\n",
    "Collection Distribution Per Position"
   ]
  },
  {
   "cell_type": "code",
   "execution_count": null,
   "metadata": {},
   "outputs": [],
   "source": [
    "%%time\n",
    "collection_distribution = analysis.get_collection_distribution_per_position()\n",
    "collection_distribution.plot();"
   ]
  },
  {
   "cell_type": "markdown",
   "metadata": {},
   "source": [
    "Performance Comparison\n",
    "How do the variants differ with respect to our metrics\n",
    "\n",
    "Click-through Rate\n",
    "Click-through rate, or the inverse bounce rate is calculated by summing search attributed plays, item navigation, and engagement actions. This metric measures candidate selection quality.\n",
    "\n",
    "Additionally, we consider ctr@k - the inverse bounds rate within the top k positions. These metrics measure ranking quality."
   ]
  },
  {
   "cell_type": "code",
   "execution_count": null,
   "metadata": {},
   "outputs": [],
   "source": [
    "for k in ['inf', 1, 3, 5, 10]:\n",
    "    print \"CTR@{}\".format(k)\n",
    "    ctr = analysis.get_ctr_at(k)\n",
    "    ctr.plot_summary()\n",
    "    print"
   ]
  },
  {
   "cell_type": "markdown",
   "metadata": {},
   "source": [
    "CTR@k statistics for all countries"
   ]
  },
  {
   "cell_type": "code",
   "execution_count": null,
   "metadata": {},
   "outputs": [],
   "source": [
    "for k in ['inf', 1, 3, 5, 10]:\n",
    "    print \"statistics@{}\".format(k)\n",
    "    statistics, diff = analysis.get_statistics_at(k)\n",
    "    display(statistics)\n",
    "    if not diff.empty:\n",
    "        print(\"Statistically significant differences between variants:\")\n",
    "        display(diff)"
   ]
  },
  {
   "cell_type": "markdown",
   "metadata": {},
   "source": [
    "CTR@k statistics for selected countries"
   ]
  },
  {
   "cell_type": "code",
   "execution_count": null,
   "metadata": {},
   "outputs": [],
   "source": [
    "countries = ['US'] #default"
   ]
  },
  {
   "cell_type": "code",
   "execution_count": null,
   "metadata": {},
   "outputs": [],
   "source": [
    "for k in ['inf', 1, 3, 5, 10]:\n",
    "    for country in countries:\n",
    "        print \"statistics@{} for country {}\".format(k, country)\n",
    "        statistics, diff = analysis.get_statistics_at(k, country)\n",
    "        display(statistics)\n",
    "        if not diff.empty:\n",
    "            print(\"Statistically significant differences between variants:\")\n",
    "            display(diff)"
   ]
  },
  {
   "cell_type": "markdown",
   "metadata": {},
   "source": [
    "Search Success Metric\n",
    "\n"
   ]
  },
  {
   "cell_type": "code",
   "execution_count": null,
   "metadata": {},
   "outputs": [],
   "source": [
    "# search_success = analysis.get_search_success()\n",
    "# search_success.plot_summary()\n"
   ]
  },
  {
   "cell_type": "markdown",
   "metadata": {},
   "source": [
    "Search Success for selected countries"
   ]
  },
  {
   "cell_type": "code",
   "execution_count": null,
   "metadata": {},
   "outputs": [],
   "source": [
    "# countries = ['US'] #default"
   ]
  },
  {
   "cell_type": "code",
   "execution_count": null,
   "metadata": {},
   "outputs": [],
   "source": [
    "# for country in countries:\n",
    "#     search_success = analysis.get_search_success(country)\n",
    "#     search_success.plot_summary()\n"
   ]
  },
  {
   "cell_type": "markdown",
   "metadata": {},
   "source": [
    "Normalized Discounted Cumulative Gain"
   ]
  },
  {
   "cell_type": "code",
   "execution_count": null,
   "metadata": {},
   "outputs": [],
   "source": [
    "ndcg = analysis.get_ndcg()\n",
    "ndcg.plot_summary()\n"
   ]
  },
  {
   "cell_type": "markdown",
   "metadata": {},
   "source": [
    "Pairwise Accuracy"
   ]
  },
  {
   "cell_type": "code",
   "execution_count": null,
   "metadata": {},
   "outputs": [],
   "source": [
    "\n",
    "pairwise_acc = analysis.get_pairwise_accuracy_at_k(20)\n",
    "pairwise_acc.plot_summary()"
   ]
  },
  {
   "cell_type": "markdown",
   "metadata": {},
   "source": [
    "Time to First Click\n",
    "This metric is an indicator for UI quality. Note, that this metric is computed only over clicks; it could be that a variant with lower ttfc has fewer clicks.\n",
    "\n"
   ]
  },
  {
   "cell_type": "code",
   "execution_count": null,
   "metadata": {},
   "outputs": [],
   "source": [
    "ttfc = analysis.get_time_to_first_click(quantile=50)\n",
    "ttfc.plot();"
   ]
  },
  {
   "cell_type": "markdown",
   "metadata": {},
   "source": [
    "Listening Time\n",
    "Listening time serves as a guard metric; it is not a KPI for search."
   ]
  },
  {
   "cell_type": "code",
   "execution_count": null,
   "metadata": {},
   "outputs": [],
   "source": [
    "listening_time = analysis.get_listening_time(quantile=50)\n",
    "listening_time.plot_summary()"
   ]
  },
  {
   "cell_type": "code",
   "execution_count": null,
   "metadata": {},
   "outputs": [],
   "source": [
    "listening_time = analysis.get_listening_time(quantile=75)\n",
    "listening_time.plot_summary()"
   ]
  },
  {
   "cell_type": "markdown",
   "metadata": {},
   "source": [
    "___________________________________"
   ]
  },
  {
   "cell_type": "markdown",
   "metadata": {},
   "source": [
    "Appendix\n",
    "Click-through Rate by Dimensions"
   ]
  },
  {
   "cell_type": "code",
   "execution_count": null,
   "metadata": {},
   "outputs": [],
   "source": [
    "k = 3"
   ]
  },
  {
   "cell_type": "markdown",
   "metadata": {},
   "source": [
    "Page Name"
   ]
  },
  {
   "cell_type": "code",
   "execution_count": null,
   "metadata": {},
   "outputs": [],
   "source": [
    "%%time\n",
    "ctr = analysis.get_ctr_at_k_by_page_name(k)\n",
    "ctr.plot();"
   ]
  },
  {
   "cell_type": "code",
   "execution_count": null,
   "metadata": {},
   "outputs": [],
   "source": [
    "Click Type"
   ]
  },
  {
   "cell_type": "code",
   "execution_count": null,
   "metadata": {},
   "outputs": [],
   "source": [
    "%%time\n",
    "ctr = analysis.get_ctr_at_k_by_engagement_type(k)\n",
    "ctr.plot();"
   ]
  },
  {
   "cell_type": "markdown",
   "metadata": {},
   "source": [
    "User Tier"
   ]
  },
  {
   "cell_type": "code",
   "execution_count": null,
   "metadata": {},
   "outputs": [],
   "source": [
    "%%time\n",
    "ctr = analysis.get_ctr_at_k_by_user_tier(k)\n",
    "ctr.plot();\n"
   ]
  },
  {
   "cell_type": "markdown",
   "metadata": {},
   "source": [
    "Collection\n"
   ]
  },
  {
   "cell_type": "code",
   "execution_count": null,
   "metadata": {},
   "outputs": [],
   "source": [
    "%%time\n",
    "ctr = analysis.get_ctr_at_k_by_collection(k)\n",
    "ctr.plot();"
   ]
  },
  {
   "cell_type": "markdown",
   "metadata": {},
   "source": [
    "Logged-in Status"
   ]
  },
  {
   "cell_type": "code",
   "execution_count": null,
   "metadata": {},
   "outputs": [],
   "source": [
    "%%time\n",
    "if final_evaluation:\n",
    "    ctr = analysis.get_ctr_at_k_by_logged_in_status(k)\n",
    "    ctr.plot();"
   ]
  },
  {
   "cell_type": "markdown",
   "metadata": {},
   "source": [
    "Country\n"
   ]
  },
  {
   "cell_type": "code",
   "execution_count": null,
   "metadata": {},
   "outputs": [],
   "source": [
    "%%time\n",
    "if final_evaluation:\n",
    "    ctr = analysis.get_ctr_at_k_by_country(k)\n",
    "    ctr.plot();\n"
   ]
  }
 ],
 "metadata": {
  "kernelspec": {
   "display_name": "Python 3.8.12 64-bit ('3.8.12')",
   "language": "python",
   "name": "python3"
  },
  "language_info": {
   "codemirror_mode": {
    "name": "ipython",
    "version": 3
   },
   "file_extension": ".py",
   "mimetype": "text/x-python",
   "name": "python",
   "nbconvert_exporter": "python",
   "pygments_lexer": "ipython3",
   "version": "3.8.12"
  },
  "orig_nbformat": 4,
  "vscode": {
   "interpreter": {
    "hash": "cf20654192d65d95678c8fc1ddfa891ed3a93cd181c873478d65b20e24d8e4c0"
   }
  }
 },
 "nbformat": 4,
 "nbformat_minor": 2
}
