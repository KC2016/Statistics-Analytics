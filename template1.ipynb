{
 "cells": [
  {
   "cell_type": "markdown",
   "metadata": {},
   "source": [
    "# Power Analysis\n",
    "\n",
    "The p-value is compared to the significance level, \\alpha           (specified before the experiment, and its value depends on the kind of experiment and business requirements). Typical significance level measures are 0.10 or 10%, 0.05 or 5%, and 0.01 or 1%.\n",
    "\n",
    "If p-value <= \\alpha          : Reject the null hypothesis (significant result).\n",
    "If p-value > \\alpha          : Fail to reject the null hypothesis (not significant result).\n",
    "All statistical hypothesis tests have a chance of making either of the following types of errors:\n",
    "\n",
    "Type I Error: Incorrect rejection of a true null hypothesis or a false positive.\n",
    "Type II Error: Incorrect acceptance of a false null hypothesis or a false negative."
   ]
  },
  {
   "cell_type": "markdown",
   "metadata": {},
   "source": [
    "### Example 1"
   ]
  },
  {
   "cell_type": "code",
   "execution_count": 2,
   "metadata": {},
   "outputs": [],
   "source": [
    "# import required modules\n",
    "from math import sqrt\n",
    "from statsmodels.stats.power import TTestIndPower"
   ]
  },
  {
   "cell_type": "code",
   "execution_count": 3,
   "metadata": {},
   "outputs": [],
   "source": [
    "#calculation of effect size\n",
    "# size of samples in pilot study\n",
    "n1, n2 = 4, 4"
   ]
  },
  {
   "cell_type": "code",
   "execution_count": 4,
   "metadata": {},
   "outputs": [],
   "source": [
    "# variance of samples in pilot study\n",
    "s1, s2 = 5**2, 5**2"
   ]
  },
  {
   "cell_type": "code",
   "execution_count": 5,
   "metadata": {},
   "outputs": [],
   "source": [
    "# calculate the pooled standard deviation \n",
    "# (Cohen's d)\n",
    "s = sqrt(((n1 - 1) * s1 + (n2 - 1) * s2) / (n1 + n2 - 2))"
   ]
  },
  {
   "cell_type": "code",
   "execution_count": 6,
   "metadata": {},
   "outputs": [],
   "source": [
    "# means of the samples\n",
    "u1, u2 = 90, 85"
   ]
  },
  {
   "cell_type": "code",
   "execution_count": 7,
   "metadata": {},
   "outputs": [
    {
     "name": "stdout",
     "output_type": "stream",
     "text": [
      "Effect size: 1.0\n"
     ]
    }
   ],
   "source": [
    "# calculate the effect size\n",
    "d = (u1 - u2) / s\n",
    "print(f'Effect size: {d}')"
   ]
  },
  {
   "cell_type": "code",
   "execution_count": 9,
   "metadata": {},
   "outputs": [],
   "source": [
    "# factors for power analysis\n",
    "alpha = 0.05\n",
    "power = 0.8"
   ]
  },
  {
   "cell_type": "code",
   "execution_count": 10,
   "metadata": {},
   "outputs": [
    {
     "name": "stdout",
     "output_type": "stream",
     "text": [
      "Sample size/Number needed in each group: 16.715\n"
     ]
    }
   ],
   "source": [
    "\n",
    "# perform power analysis to find sample size \n",
    "# for given effect\n",
    "obj = TTestIndPower()\n",
    "n = obj.solve_power(effect_size=d, alpha=alpha, power=power, \n",
    "                    ratio=1, alternative='two-sided')\n",
    "  \n",
    "print('Sample size/Number needed in each group: {:.3f}'.format(n))"
   ]
  },
  {
   "cell_type": "markdown",
   "metadata": {},
   "source": [
    "### Exemple 2"
   ]
  },
  {
   "cell_type": "code",
   "execution_count": 11,
   "metadata": {},
   "outputs": [],
   "source": [
    "from statsmodels.stats.power import TTestPower"
   ]
  },
  {
   "cell_type": "code",
   "execution_count": 12,
   "metadata": {},
   "outputs": [
    {
     "name": "stdout",
     "output_type": "stream",
     "text": [
      "Power: 0.869\n"
     ]
    }
   ],
   "source": [
    "power = TTestPower()\n",
    "n_test = power.solve_power(nobs=40, effect_size = 0.5,\n",
    "                           power = None, alpha = 0.05)\n",
    "print('Power: {:.3f}'.format(n_test))"
   ]
  },
  {
   "cell_type": "code",
   "execution_count": 13,
   "metadata": {},
   "outputs": [],
   "source": [
    "\n",
    "# import required libraries\n",
    "import numpy as np\n",
    "import matplotlib.pyplot as plt\n",
    "from statsmodels.stats.power import TTestIndPower"
   ]
  },
  {
   "cell_type": "code",
   "execution_count": 14,
   "metadata": {},
   "outputs": [],
   "source": [
    "# power analysis varying parameters\n",
    "effect_sizes = np.array([0.2, 0.5, 0.8,1.3])\n",
    "sample_sizes = np.array(range(5, 100))"
   ]
  },
  {
   "cell_type": "code",
   "execution_count": 15,
   "metadata": {},
   "outputs": [
    {
     "data": {
      "image/png": "[encoded data removed]",
      "text/plain": [
       "<Figure size 432x288 with 1 Axes>"
      ]
     },
     "metadata": {
      "needs_background": "light"
     },
     "output_type": "display_data"
    }
   ],
   "source": [
    "# plot power curves\n",
    "obj = TTestIndPower()\n",
    "obj.plot_power(dep_var='nobs', nobs=sample_sizes,\n",
    "               effect_size=effect_sizes)\n",
    "  \n",
    "plt.show()"
   ]
  },
  {
   "cell_type": "markdown",
   "metadata": {},
   "source": [
    "\n",
    "  \n",
    "  \n",
    "\n",
    "  \n"
   ]
  }
 ],
 "metadata": {
  "kernelspec": {
   "display_name": "Python 3.6.10",
   "language": "python",
   "name": "python3"
  },
  "language_info": {
   "codemirror_mode": {
    "name": "ipython",
    "version": 3
   },
   "file_extension": ".py",
   "mimetype": "text/x-python",
   "name": "python",
   "nbconvert_exporter": "python",
   "pygments_lexer": "ipython3",
   "version": "3.6.10"
  },
  "orig_nbformat": 4,
  "vscode": {
   "interpreter": {
    "hash": "36158fe5a7dedd0930d4d7487faf64eada72cb11269b1facdc8596964da6cb24"
   }
  }
 },
 "nbformat": 4,
 "nbformat_minor": 2
}
