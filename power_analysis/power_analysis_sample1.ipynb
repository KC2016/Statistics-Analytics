{
 "cells": [
  {
   "cell_type": "code",
   "execution_count": null,
   "metadata": {},
   "outputs": [],
   "source": [
    "Sample 1"
   ]
  },
  {
   "cell_type": "markdown",
   "metadata": {},
   "source": [
    "Player Contrast [Android] - Power Analysis\n",
    "Hypothesis\n",
    "By implementing a new player design where users can distinguish better between the track’s cover and the action buttons, we would not decrease any of the engagement metrics.\n",
    "\n",
    "Metrics\n",
    "Success Metric: Average number of likes per users\n",
    "Support Metric: Average number of follows per users\n",
    "Support Metric: Average listening time per users"
   ]
  },
  {
   "cell_type": "code",
   "execution_count": null,
   "metadata": {},
   "outputs": [],
   "source": []
  },
  {
   "cell_type": "code",
   "execution_count": 1,
   "metadata": {},
   "outputs": [
    {
     "ename": "ModuleNotFoundError",
     "evalue": "No module named 'statisticalpower'",
     "output_type": "error",
     "traceback": [
      "\u001b[0;31m---------------------------------------------------------------------------\u001b[0m",
      "\u001b[0;31mModuleNotFoundError\u001b[0m                       Traceback (most recent call last)",
      "\u001b[1;32mUntitled-1.ipynb Cell 3\u001b[0m in \u001b[0;36m<cell line: 1>\u001b[0;34m()\u001b[0m\n\u001b[0;32m----> <a href='vscode-notebook-cell:Untitled-1.ipynb?jupyter-notebook#ch0000002untitled?line=0'>1</a>\u001b[0m \u001b[39mfrom\u001b[39;00m \u001b[39mstatisticalpower\u001b[39;00m \u001b[39mimport\u001b[39;00m \u001b[39m*\u001b[39m\n",
      "\u001b[0;31mModuleNotFoundError\u001b[0m: No module named 'statisticalpower'"
     ]
    }
   ],
   "source": [
    "from statisticalpower import *"
   ]
  },
  {
   "cell_type": "code",
   "execution_count": 2,
   "metadata": {},
   "outputs": [
    {
     "ename": "NameError",
     "evalue": "name 'calculate_test_duration' is not defined",
     "output_type": "error",
     "traceback": [
      "\u001b[0;31m---------------------------------------------------------------------------\u001b[0m",
      "\u001b[0;31mNameError\u001b[0m                                 Traceback (most recent call last)",
      "\u001b[1;32mUntitled-1.ipynb Cell 4\u001b[0m in \u001b[0;36m<cell line: 1>\u001b[0;34m()\u001b[0m\n\u001b[0;32m----> <a href='vscode-notebook-cell:Untitled-1.ipynb?jupyter-notebook#ch0000003untitled?line=0'>1</a>\u001b[0m calculate_test_duration(samples_per_day\u001b[39m=\u001b[39m\u001b[39m500000\u001b[39m,\n\u001b[1;32m      <a href='vscode-notebook-cell:Untitled-1.ipynb?jupyter-notebook#ch0000003untitled?line=1'>2</a>\u001b[0m                                 mean_baseline\u001b[39m=\u001b[39m[\u001b[39m2.8815112558717324\u001b[39m, \u001b[39m0.31854635485679517\u001b[39m, \u001b[39m275.54870313547019\u001b[39m], \n\u001b[1;32m      <a href='vscode-notebook-cell:Untitled-1.ipynb?jupyter-notebook#ch0000003untitled?line=2'>3</a>\u001b[0m                                 mde\u001b[39m=\u001b[39m[\u001b[39m0.02\u001b[39m, \u001b[39m0.03\u001b[39m, \u001b[39m0.02\u001b[39m], \n\u001b[1;32m      <a href='vscode-notebook-cell:Untitled-1.ipynb?jupyter-notebook#ch0000003untitled?line=3'>4</a>\u001b[0m                                 standard_deviation_baseline\u001b[39m=\u001b[39m[\u001b[39m10.906799374089093\u001b[39m, \u001b[39m5.3429310665610323\u001b[39m, \u001b[39m559.63624969034367\u001b[39m],\n\u001b[1;32m      <a href='vscode-notebook-cell:Untitled-1.ipynb?jupyter-notebook#ch0000003untitled?line=4'>5</a>\u001b[0m                                 kpi_names\u001b[39m=\u001b[39m[\u001b[39m\"\u001b[39m\u001b[39mAvg. # of likes\u001b[39m\u001b[39m\"\u001b[39m, \u001b[39m\"\u001b[39m\u001b[39mAvg. # of follows\u001b[39m\u001b[39m\"\u001b[39m, \u001b[39m\"\u001b[39m\u001b[39mAvg. listening time\u001b[39m\u001b[39m\"\u001b[39m],\n\u001b[1;32m      <a href='vscode-notebook-cell:Untitled-1.ipynb?jupyter-notebook#ch0000003untitled?line=5'>6</a>\u001b[0m                                 kpi_types\u001b[39m=\u001b[39m[\u001b[39m\"\u001b[39m\u001b[39mSuccess KPI\u001b[39m\u001b[39m\"\u001b[39m, \u001b[39m\"\u001b[39m\u001b[39mSupport KPI\u001b[39m\u001b[39m\"\u001b[39m, \u001b[39m\"\u001b[39m\u001b[39mSupport KPI\u001b[39m\u001b[39m\"\u001b[39m],\n\u001b[1;32m      <a href='vscode-notebook-cell:Untitled-1.ipynb?jupyter-notebook#ch0000003untitled?line=6'>7</a>\u001b[0m                                 kpi_is_percentage\u001b[39m=\u001b[39m[\u001b[39mFalse\u001b[39;00m, \u001b[39mFalse\u001b[39;00m, \u001b[39mFalse\u001b[39;00m], \n\u001b[1;32m      <a href='vscode-notebook-cell:Untitled-1.ipynb?jupyter-notebook#ch0000003untitled?line=7'>8</a>\u001b[0m                                 relative_mde_change\u001b[39m=\u001b[39m[\u001b[39mTrue\u001b[39;00m, \u001b[39mTrue\u001b[39;00m, \u001b[39mTrue\u001b[39;00m])\n",
      "\u001b[0;31mNameError\u001b[0m: name 'calculate_test_duration' is not defined"
     ]
    }
   ],
   "source": [
    "calculate_test_duration(samples_per_day=500000,\n",
    "                                mean_baseline=[2.8815112558717324, 0.31854635485679517, 275.54870313547019], \n",
    "                                mde=[0.02, 0.03, 0.02], \n",
    "                                standard_deviation_baseline=[10.906799374089093, 5.3429310665610323, 559.63624969034367],\n",
    "                                kpi_names=[\"Avg. # of likes\", \"Avg. # of follows\", \"Avg. listening time\"],\n",
    "                                kpi_types=[\"Success KPI\", \"Support KPI\", \"Support KPI\"],\n",
    "                                kpi_is_percentage=[False, False, False], \n",
    "                                relative_mde_change=[True, True, True])"
   ]
  }
 ],
 "metadata": {
  "kernelspec": {
   "display_name": "Python 3.8.12 64-bit ('3.8.12')",
   "language": "python",
   "name": "python3"
  },
  "language_info": {
   "codemirror_mode": {
    "name": "ipython",
    "version": 3
   },
   "file_extension": ".py",
   "mimetype": "text/x-python",
   "name": "python",
   "nbconvert_exporter": "python",
   "pygments_lexer": "ipython3",
   "version": "3.8.12"
  },
  "orig_nbformat": 4,
  "vscode": {
   "interpreter": {
    "hash": "cf20654192d65d95678c8fc1ddfa891ed3a93cd181c873478d65b20e24d8e4c0"
   }
  }
 },
 "nbformat": 4,
 "nbformat_minor": 2
}
