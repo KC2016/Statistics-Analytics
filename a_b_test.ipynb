{
 "cells": [
  {
   "cell_type": "markdown",
   "metadata": {},
   "source": []
  },
  {
   "cell_type": "markdown",
   "metadata": {},
   "source": []
  },
  {
   "cell_type": "markdown",
   "metadata": {},
   "source": []
  },
  {
   "cell_type": "markdown",
   "metadata": {},
   "source": [
    "Cronology\n",
    "\n",
    "1- Hypothesis\n",
    "\n",
    "2- Experimental design/choice of a Statistical test\n",
    "\n",
    "3- Power Analysis: Sample size\n",
    "\n",
    "4- Experiment(s)\n",
    "\n",
    "5- Data exploration\n",
    "\n",
    "6- Statistical Analysis of the results"
   ]
  }
 ],
 "metadata": {
  "interpreter": {
   "hash": "36158fe5a7dedd0930d4d7487faf64eada72cb11269b1facdc8596964da6cb24"
  },
  "kernelspec": {
   "display_name": "Python 3.6.10 64-bit (conda)",
   "name": "python3"
  },
  "language_info": {
   "name": "python",
   "version": "3.6.10"
  },
  "orig_nbformat": 4
 },
 "nbformat": 4,
 "nbformat_minor": 2
}
