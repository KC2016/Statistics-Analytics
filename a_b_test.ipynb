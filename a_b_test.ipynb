{
 "cells": [
  {
   "cell_type": "markdown",
   "metadata": {},
   "source": []
  },
  {
   "cell_type": "markdown",
   "metadata": {},
   "source": []
  },
  {
   "cell_type": "markdown",
   "metadata": {},
   "source": [
    "Power Statistic: estimation of an appropriate sample size\n",
    "- Sample distribution\n",
    "\n",
    "- alfa: probability of type I error(0.05) , confidence level of 95%\n",
    "\n",
    "- p-value: probability that the observed statistic occurred by chance alone. We reject the null hypothesis if p-value is very low. The conventional threshold for rejecting the null hypothesis is 5%.\n",
    "\n",
    "- power:  probability that an experiment will flag a real change as statistically significant. The convention is to require 80% power. Power depends on magnitude of the change, and variance among samples.\n",
    "\n",
    "- true-effect: the actual difference of mean between the buckets that would have been observed if we had infinitely large sample sizes. It’s a fixed but unknown parameter, which we are trying to infer.\n",
    "\n",
    "- False positives — the 5% chance of getting a measurement under the null hypothesis that is so far from the mean that we call it statistically significant. \n",
    "\n",
    "- Power: 80% of time we call statistical significance under the alternative. \n",
    "\n",
    "\n",
    "- **“minimal detectable effect” MDE — estimates the smallest improvement you are willing to be able to detect. It determines how \"sensitive\" an experiment is. \n",
    "With 0.8MDE, given sample size and sample variance, we can calculate the smallest real effect size which we would be able to detect at 80% power.**\n",
    "\n",
    "- H0: null hypothesis: absence of effect (control)\n",
    "- H1: alternative hypothesis: presence of effect (treatment)\n",
    "- Statistical significance: comparison between alfa and p-value\n",
    "- p-value < 0.05: there is a difference (reject H0) SIGNIFICANT\n",
    "- p-value > 0.05: there is no diference (fail to reject H0) NOT SIGNIFICANT\n",
    "- p-value = 0 (CRITICAL VALUE = size of difference + sample size + significance)\n",
    "- Hₒ: p = pₒ\n",
    "- Hₐ: p ≠ pₒ\n",
    "\n",
    "- type II error (beta): failure to reject a false H0\n",
    "- power: probability of detecting an effect which is really there.\n",
    "- Power = 1 - beta (inversely proportional)\n",
    "- Convension: Power+0.8 and beta=0.2\n",
    "\n",
    "- Note: mu(mean), sigma (standard)\n",
    "\n",
    "\n",
    "- T-test: hypothesis testing, test statistic is compared to the critical value to determine sgnificance.\n",
    "\n",
    "- If test statistic > critical value: statistical significance and null hyplothesis rejection (t-value > critical t-value)\n",
    "\n",
    "- Reletionship between variables\n",
    "-> Effect size: difference of biological interest and variabilidade (std deviation)\n",
    "-> power of the experiment (80%)\n",
    "-> significance level (5%, being 5% from one-sized test and 2x2.5% for two-sized test) \n",
    "-> sample size\n",
    "-> alternative hypothesis (one or two-sized test)\n",
    "\n",
    "- The larger the effect size, the smaller the experiment will need to be to detect it.\n",
    "\n",
    "\n",
    "Cronology\n",
    "\n",
    "1- Hypothesis\n",
    "\n",
    "2- Experimental design/choice of a Statistical test\n",
    "\n",
    "3- Power Analysis: Sample size\n",
    "\n",
    "4- Experiment(s)\n",
    "\n",
    "5- Data exploration\n",
    "\n",
    "6- Statistical Analysis of the results"
   ]
  },
  {
   "cell_type": "markdown",
   "metadata": {},
   "source": [
    "<!-- ![01](images/01.png) -->\n",
    "<img title=\"01\" alt=\"Alt text\" src=\"images/01.png\">"
   ]
  },
  {
   "cell_type": "markdown",
   "metadata": {},
   "source": [
    "<!-- ![02](images/02.png) -->\n",
    "<img title=\"02\" alt=\"Alt text\" src=\"images/02.png\">"
   ]
  },
  {
   "cell_type": "markdown",
   "metadata": {},
   "source": [
    "- p-value (p): Probability of obtaining a result equal to or more extreme than was observed in the data.\n",
    "\n",
    "\n",
    "- **Type I Error.** Reject the null hypothesis when there is in fact no significant effect (false positive). The p-value is optimistically small.\n",
    "\n",
    "- **Type II Error.** Not reject the null hypothesis when there is a significant effect (false negative). The p-value is pessimistically large.\n",
    "\n",
    "- Usual value for Statistical Power = 80%,being 20% of false negatives.\n",
    "\n",
    "- **Low Statistical Power:** Large risk of committing Type II errors, e.g. a false negative.\n",
    "\n",
    "- **High Statistical Power:** Small risk of committing Type II errors."
   ]
  },
  {
   "cell_type": "markdown",
   "metadata": {},
   "source": [
    "### Power Analysis (Student's t Test Power Analysis)\n",
    "\n",
    "- **Effect Size.** The quantified magnitude of a result present in the population. *(using Pearson’s correlation coefficient for the relationship between variables or Cohen’s d of at least 0.80)* \n",
    "\n",
    "- **Sample Size.** The number of observations in the sample.\n",
    "\n",
    "- **Significance (alpha).** Boundary for specifying a statistically significant finding when interpreting the p-value. (5%)\n",
    "\n",
    "- **Statistical Power.**  The probability of accepting the alternative hypothesis if it is true. (80%)\n",
    "\n",
    "> [Source](https://machinelearningmastery.com/statistical-power-and-power-analysis-in-python/)"
   ]
  },
  {
   "cell_type": "markdown",
   "metadata": {},
   "source": [
    "<!-- ![03](images/03.png) -->\n",
    "<img title=\"03\" alt=\"Alt text\" src=\"images/03.png\">\n",
    "[Source](https://www.statisticshowto.com/probability-and-statistics/statistics-definitions/parametric-and-non-parametric-data/)"
   ]
  },
  {
   "cell_type": "markdown",
   "metadata": {},
   "source": [
    "How to decide the type of test without checking the distribution?"
   ]
  },
  {
   "cell_type": "code",
   "execution_count": null,
   "metadata": {},
   "outputs": [],
   "source": []
  },
  {
   "cell_type": "markdown",
   "metadata": {},
   "source": [
    "a = 0.05 # significance level "
   ]
  },
  {
   "cell_type": "markdown",
   "metadata": {},
   "source": []
  },
  {
   "cell_type": "code",
   "execution_count": null,
   "metadata": {},
   "outputs": [],
   "source": []
  },
  {
   "cell_type": "code",
   "execution_count": null,
   "metadata": {},
   "outputs": [],
   "source": []
  }
 ],
 "metadata": {
  "interpreter": {
   "hash": "36158fe5a7dedd0930d4d7487faf64eada72cb11269b1facdc8596964da6cb24"
  },
  "kernelspec": {
   "display_name": "Python 3.6.10 64-bit (conda)",
   "name": "python3"
  },
  "language_info": {
   "name": "python",
   "version": "3.6.10"
  },
  "orig_nbformat": 4
 },
 "nbformat": 4,
 "nbformat_minor": 2
}
