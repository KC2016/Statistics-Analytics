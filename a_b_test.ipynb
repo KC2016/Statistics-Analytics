{
 "cells": [
  {
   "cell_type": "markdown",
   "metadata": {},
   "source": []
  },
  {
   "cell_type": "markdown",
   "metadata": {},
   "source": []
  },
  {
   "cell_type": "markdown",
   "metadata": {},
   "source": [
    "Power Statistic: estimation of an appropriate sample size\n",
    "- Sample distribution\n",
    "- alfa: probability of type I error(0.05) , confidence level of 95%\n",
    "- p-value: probability that the observed statistic occurred by chance alone. We reject the null hypothesis if p-value is very low. The conventional threshold for rejecting the null hypothesis is 5%.\n",
    "- power:  probability that an experiment will flag a real change as statistically significant. The convention is to require 80% power. Power depends on magnitude of the change, and variance among samples.\n",
    "- true-effect: the actual difference of mean between the buckets that would have been observed if we had infinitely large sample sizes. It’s a fixed but unknown parameter, which we are trying to infer.\n",
    "\n",
    "\n",
    "- False positives — the 5% chance of getting a measurement under the null hypothesis that is so far from the mean that we call it statistically significant. \n",
    "\n",
    "- Power: 80% of time we call statistical significance under the alternative. \n",
    "- “minimal detectable effect” MDE — estimates the smallest improvement you are willing to be able to detect. It determines how \"sensitive\" an experiment is. \n",
    "With 0.8MDE, given sample size and sample variance, we can calculate the smallest real effect size which we would be able to detect at 80% power.\n",
    "\n",
    "- H0: null hypothesis: absence of effect (control)\n",
    "- H1: alternative hypothesis: presence of effect (treatment)\n",
    "- Statistical significance: comparison between alfa and p-value\n",
    "- p-value < 0.05: there is a difference (reject H0) SIGNIFICANT\n",
    "- p-value > 0.05: there is no diference (fail to reject H0) NOT SIGNIFICANT\n",
    "- p-value = 0 (CRITICAL VALUE = size of difference + sample size + significance)\n",
    "- Hₒ: p = pₒ\n",
    "- Hₐ: p ≠ pₒ\n",
    "\n",
    "- type II error (beta): failure to reject a false H0\n",
    "- power: probability of detecting an effect which is really there.\n",
    "- Power = 1 - beta (inversely proportional)\n",
    "- Convension: Power+0.8 and beta=0.2\n",
    "\n",
    "- Note: mu(mean), sigma (standard)\n",
    "\n",
    "\n",
    "- T-test: hypothesis testing, test statistic is compared to the critical value to determine sgnificance.\n",
    "\n",
    "- If test statistic > critical value: statistical significance and null hyplothesis rejection (t-value > critical t-value)\n",
    "\n",
    "- Reletionship between variables\n",
    "-> Effect size: difference of biological interest and variabilidade (std deviation)\n",
    "-> power of the experiment (80%)\n",
    "-> significance level (5%, being 5% from one-sized test and 2x2.5% for two-sized test) \n",
    "-> sample size\n",
    "-> alternative hypothesis (one or two-sized test)\n",
    "\n",
    "- The larger the effect size, the smaller the experiment will need to be to detect it.\n",
    "\n",
    "\n",
    "Cronology\n",
    "\n",
    "1- Hypothesis\n",
    "\n",
    "2- Experimental design/choice of a Statistical test\n",
    "\n",
    "3- Power Analysis: Sample size\n",
    "\n",
    "4- Experiment(s)\n",
    "\n",
    "5- Data exploration\n",
    "\n",
    "6- Statistical Analysis of the results"
   ]
  }
 ],
 "metadata": {
  "interpreter": {
   "hash": "36158fe5a7dedd0930d4d7487faf64eada72cb11269b1facdc8596964da6cb24"
  },
  "kernelspec": {
   "display_name": "Python 3.6.10 64-bit (conda)",
   "name": "python3"
  },
  "language_info": {
   "name": "python",
   "version": "3.6.10"
  },
  "orig_nbformat": 4
 },
 "nbformat": 4,
 "nbformat_minor": 2
}
